{
 "cells": [
  {
   "cell_type": "code",
   "execution_count": 1,
   "metadata": {},
   "outputs": [],
   "source": [
    "using JuMP, GLPK"
   ]
  },
  {
   "attachments": {},
   "cell_type": "markdown",
   "metadata": {},
   "source": [
    "<img src=\"example.png\" style=\"width: 300px;\"/>"
   ]
  },
  {
   "cell_type": "markdown",
   "metadata": {},
   "source": [
    "Define the problem"
   ]
  },
  {
   "cell_type": "code",
   "execution_count": 2,
   "metadata": {},
   "outputs": [],
   "source": [
    "trees = [\n",
    "    (1,8),\n",
    "    (2,4), (2,5),\n",
    "    (3,2), (3,4),\n",
    "    (4,8),\n",
    "    (5,2), (5,7),\n",
    "    (6,4),\n",
    "    (7,8),\n",
    "    (8,4), (8,7)\n",
    "]\n",
    "\n",
    "col_sums = [2,0,1,3,1,1,2,2]\n",
    "row_sums = [2,0,4,0,2,1,1,2]\n",
    ";"
   ]
  },
  {
   "cell_type": "markdown",
   "metadata": {},
   "source": [
    "Initialize the solver"
   ]
  },
  {
   "cell_type": "code",
   "execution_count": 13,
   "metadata": {},
   "outputs": [],
   "source": [
    "model = Model(with_optimizer(GLPK.Optimizer))\n",
    "\n",
    "@variable(model, x[1:8, 1:8], Bin);"
   ]
  },
  {
   "cell_type": "markdown",
   "metadata": {},
   "source": [
    "Add constraint for a tent to be next to a tree (but not on a tree)"
   ]
  },
  {
   "cell_type": "code",
   "execution_count": 14,
   "metadata": {
    "scrolled": false
   },
   "outputs": [],
   "source": [
    "# a tent must be next to a tree\n",
    "for row in 1:8, col in 1:8\n",
    "    # is not on a tree\n",
    "    if (row, col) in trees\n",
    "        @constraint(model, x[row, col] == 0)\n",
    "    end\n",
    "    \n",
    "    # should be next to a tree \n",
    "    found = false\n",
    "    for tree in trees\n",
    "        if abs(tree[1] - row) + abs(tree[2] - col) <= 1\n",
    "            found = true\n",
    "        end\n",
    "    end\n",
    "    if !found\n",
    "        @constraint(model, x[row, col] == 0)\n",
    "    end\n",
    "end"
   ]
  },
  {
   "cell_type": "markdown",
   "metadata": {},
   "source": [
    "Add row and column sums"
   ]
  },
  {
   "cell_type": "code",
   "execution_count": 15,
   "metadata": {},
   "outputs": [],
   "source": [
    "# columns and sums should add up\n",
    "for i in 1:8\n",
    "    @constraint(model, sum(x[i, :]) == row_sums[i])\n",
    "    @constraint(model, sum(x[:, i]) == col_sums[i])\n",
    "end"
   ]
  },
  {
   "cell_type": "markdown",
   "metadata": {},
   "source": [
    "Solve"
   ]
  },
  {
   "cell_type": "code",
   "execution_count": 50,
   "metadata": {},
   "outputs": [
    {
     "name": "stdout",
     "output_type": "stream",
     "text": [
      " ----------------------------------- \n",
      "| ◽  ◽  ◽  ⛺  ◽  ◽  ⛺  🌲  |\n",
      "| ◽  ◽  ◽  🌲  🌲  ◽  ◽  ◽  |\n",
      "| ⛺  🌲  ⛺  🌲  ⛺  ◽  ◽  ⛺  |\n",
      "| ◽  ◽  ◽  ◽  ◽  ◽  ◽  🌲  |\n",
      "| ⛺  🌲  ◽  ⛺  ◽  ◽  🌲  ◽  |\n",
      "| ◽  ◽  ◽  🌲  ◽  ◽  ⛺  ◽  |\n",
      "| ◽  ◽  ◽  ⛺  ◽  ◽  ◽  🌲  |\n",
      "| ◽  ◽  ◽  🌲  ◽  ⛺  🌲  ⛺  |\n",
      " ----------------------------------- \n"
     ]
    }
   ],
   "source": [
    "JuMP.optimize!(model)\n",
    "\n",
    "solution = JuMP.value.(x)\n",
    "\n",
    "println(\" ----------------------------------- \")\n",
    "for row in 1:8\n",
    "    print(\"| \")\n",
    "    for col in 1:8\n",
    "        if solution[row, col] == 1\n",
    "            print(\"⛺\")\n",
    "        elseif (row, col) in trees\n",
    "            print(\"🌲\")\n",
    "        else\n",
    "            print(\"◽\")\n",
    "        end\n",
    "        print(\"  \")\n",
    "    end\n",
    "    println(\"|\")\n",
    "end\n",
    "println(\" ----------------------------------- \")"
   ]
  }
 ],
 "metadata": {
  "kernelspec": {
   "display_name": "Julia 1.0.3",
   "language": "julia",
   "name": "julia-1.0"
  },
  "language_info": {
   "file_extension": ".jl",
   "mimetype": "application/julia",
   "name": "julia",
   "version": "1.0.3"
  }
 },
 "nbformat": 4,
 "nbformat_minor": 2
}
