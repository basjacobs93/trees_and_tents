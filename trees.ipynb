{
 "cells": [
  {
   "cell_type": "code",
   "execution_count": 1,
   "metadata": {},
   "outputs": [],
   "source": [
    "using JuMP, GLPK"
   ]
  },
  {
   "cell_type": "markdown",
   "metadata": {},
   "source": [
    "Source: https://brainbashers.com/tents.asp\n"
   ]
  },
  {
   "cell_type": "markdown",
   "metadata": {},
   "source": [
    "<img src=\"example.png\" style=\"width: 300px;\"/>"
   ]
  },
  {
   "cell_type": "code",
   "execution_count": 2,
   "metadata": {},
   "outputs": [],
   "source": [
    "# from html, 0=blank, 1=tree, 2=tent\n",
    "lcpuzzle = \"001202011200021001020012000120001200020100100000010200200000201000001212102020000000000010021012201000000200102002020102000001010001001201201212\"\n",
    "lcrownumbers = \"332123222404\"\n",
    "lccolnumbers = \"222322230505\";"
   ]
  },
  {
   "cell_type": "markdown",
   "metadata": {},
   "source": [
    "Define the problem"
   ]
  },
  {
   "cell_type": "code",
   "execution_count": 10,
   "metadata": {
    "scrolled": true
   },
   "outputs": [],
   "source": [
    "puzzle = [parse(Int, i) for i in lcpuzzle]\n",
    "n = Int(sqrt(length(puzzle)))\n",
    "\n",
    "trees = [(i, j) for i in 1:n, j in 1:n if puzzle[(i-1)*n + j] == 1]\n",
    "row_sums = [parse(Int, i) for i in lcrownumbers]\n",
    "col_sums = [parse(Int, i) for i in lccolnumbers];"
   ]
  },
  {
   "cell_type": "markdown",
   "metadata": {},
   "source": [
    "Initialize the solver"
   ]
  },
  {
   "cell_type": "code",
   "execution_count": 11,
   "metadata": {},
   "outputs": [],
   "source": [
    "model = Model(with_optimizer(GLPK.Optimizer))\n",
    "\n",
    "@variable(model, x[1:n, 1:n], Bin);"
   ]
  },
  {
   "cell_type": "markdown",
   "metadata": {},
   "source": [
    "Add constraint for a tent to be next to a tree (but not on a tree)"
   ]
  },
  {
   "cell_type": "code",
   "execution_count": 12,
   "metadata": {
    "scrolled": false
   },
   "outputs": [],
   "source": [
    "# a tent must be next to a tree\n",
    "for row in 1:n, col in 1:n\n",
    "    # is not on a tree\n",
    "    if (row, col) in trees\n",
    "        @constraint(model, x[row, col] == 0)\n",
    "    end\n",
    "    \n",
    "    # should be next to a tree \n",
    "    found = false\n",
    "    for tree in trees\n",
    "        if abs(tree[1] - row) + abs(tree[2] - col) <= 1\n",
    "            found = true\n",
    "        end\n",
    "    end\n",
    "    if !found\n",
    "        @constraint(model, x[row, col] == 0)\n",
    "    end\n",
    "end"
   ]
  },
  {
   "cell_type": "markdown",
   "metadata": {},
   "source": [
    "Add row and column sums"
   ]
  },
  {
   "cell_type": "code",
   "execution_count": 13,
   "metadata": {},
   "outputs": [],
   "source": [
    "# columns and sums should add up\n",
    "for i in 1:n\n",
    "    @constraint(model, sum(x[i, :]) == row_sums[i])\n",
    "    @constraint(model, sum(x[:, i]) == col_sums[i])\n",
    "end"
   ]
  },
  {
   "cell_type": "markdown",
   "metadata": {},
   "source": [
    "Tents cannot touch"
   ]
  },
  {
   "cell_type": "code",
   "execution_count": 14,
   "metadata": {},
   "outputs": [],
   "source": [
    "# every 2x2 square contains at most 1 tree\n",
    "for row in 1:(n-1), col in 1:(n-1)\n",
    "    @constraint(model, sum(x[row:row+1, col:col+1]) <= 1)\n",
    "end"
   ]
  },
  {
   "cell_type": "markdown",
   "metadata": {},
   "source": [
    "Solve"
   ]
  },
  {
   "cell_type": "code",
   "execution_count": 25,
   "metadata": {},
   "outputs": [
    {
     "name": "stdout",
     "output_type": "stream",
     "text": [
      "◽ ◽ 🌲 ⛺ ◽ ⛺ ◽ 🌲 🌲 ⛺ ◽ ◽ \n",
      "◽ ⛺ 🌲 ◽ ◽ 🌲 ◽ ⛺ ◽ ◽ 🌲 ⛺ \n",
      "◽ ◽ ◽ 🌲 ⛺ ◽ ◽ ◽ 🌲 ⛺ ◽ ◽ \n",
      "◽ ⛺ ◽ 🌲 ◽ ◽ 🌲 ◽ ◽ ◽ ◽ ◽ \n",
      "◽ 🌲 ◽ ⛺ ◽ ◽ ⛺ ◽ ◽ ◽ ◽ ◽ \n",
      "⛺ ◽ 🌲 ◽ ◽ ◽ ◽ ◽ 🌲 ⛺ 🌲 ⛺ \n",
      "🌲 ◽ ⛺ ◽ ⛺ ◽ ◽ ◽ ◽ ◽ ◽ ◽ \n",
      "◽ ◽ ◽ ◽ 🌲 ◽ ◽ ⛺ 🌲 ◽ 🌲 ⛺ \n",
      "⛺ ◽ 🌲 ◽ ◽ ◽ ◽ ◽ ◽ ⛺ ◽ ◽ \n",
      "🌲 ◽ ⛺ ◽ ◽ ⛺ ◽ ⛺ ◽ 🌲 ◽ ⛺ \n",
      "◽ ◽ ◽ ◽ ◽ 🌲 ◽ 🌲 ◽ ◽ ◽ 🌲 \n",
      "◽ ◽ 🌲 ⛺ ◽ 🌲 ⛺ ◽ 🌲 ⛺ 🌲 ⛺ \n"
     ]
    }
   ],
   "source": [
    "JuMP.optimize!(model)\n",
    "\n",
    "solution = JuMP.value.(x)\n",
    "\n",
    "for row in 1:n\n",
    "    for col in 1:n\n",
    "        if solution[row, col] == 1\n",
    "            print(\"⛺\")\n",
    "        elseif (row, col) in trees\n",
    "            print(\"🌲\")\n",
    "        else\n",
    "            print(\"◽\")\n",
    "        end\n",
    "        print(\" \")\n",
    "    end\n",
    "    println(\"\")\n",
    "end"
   ]
  },
  {
   "cell_type": "code",
   "execution_count": null,
   "metadata": {},
   "outputs": [],
   "source": []
  }
 ],
 "metadata": {
  "kernelspec": {
   "display_name": "Julia 1.0.3",
   "language": "julia",
   "name": "julia-1.0"
  },
  "language_info": {
   "file_extension": ".jl",
   "mimetype": "application/julia",
   "name": "julia",
   "version": "1.0.3"
  }
 },
 "nbformat": 4,
 "nbformat_minor": 2
}
